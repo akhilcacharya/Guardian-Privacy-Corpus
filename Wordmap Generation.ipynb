{
 "cells": [
  {
   "cell_type": "code",
   "execution_count": 9,
   "metadata": {},
   "outputs": [
    {
     "name": "stdout",
     "output_type": "stream",
     "text": [
      "HI\n",
      "/home/rob/Guardian-Privacy-Corpus/WORDMAP/NETHERLANDS AND SURVEILLANCE AND EITHER AGENCIES.pngdoes not exist\n",
      "/home/rob/Guardian-Privacy-Corpus/WORDMAP/GREECE AND SURVEILLANCE AND EITHER AGENCIES.pngdoes not exist\n",
      "/home/rob/Guardian-Privacy-Corpus/WORDMAP/FRANCE AND SURVEILLANCE AND EITHER AGENCIES.pngdoes not exist\n",
      "/home/rob/Guardian-Privacy-Corpus/WORDMAP/BULGARIA AND SURVEILLANCE AND EITHER AGENCIES.pngdoes not exist\n",
      "/home/rob/Guardian-Privacy-Corpus/WORDMAP/SPAIN AND SURVEILLANCE AND EITHER AGENCIES.pngdoes not exist\n",
      "/home/rob/Guardian-Privacy-Corpus/WORDMAP/ITALY AND SURVEILLANCE AND EITHER AGENCIES.pngdoes not exist\n",
      "/home/rob/Guardian-Privacy-Corpus/WORDMAP/ROMANIA AND PRIVACY AND EITHER AGENCIES.pngdoes not exist\n",
      "/home/rob/Guardian-Privacy-Corpus/WORDMAP/GCHQ AND SURVEILLANCE.pngdoes not exist\n",
      "/home/rob/Guardian-Privacy-Corpus/WORDMAP/CZECH REPUBLIC AND PRIVACY AND EITHER AGENCIES.pngdoes not exist\n",
      "/home/rob/Guardian-Privacy-Corpus/WORDMAP/FRANCE AND PRIVACY AND EITHER AGENCIES.pngdoes not exist\n",
      "/home/rob/Guardian-Privacy-Corpus/WORDMAP/HUNGARY AND SURVEILLANCE AND EITHER AGENCIES.pngdoes not exist\n",
      "/home/rob/Guardian-Privacy-Corpus/WORDMAP/IRELAND AND PRIVACY AND EITHER AGENCIES.pngdoes not exist\n",
      "/home/rob/Guardian-Privacy-Corpus/WORDMAP/UK AND PRIVACY AND EITHER AGENCIES.pngdoes not exist\n",
      "/home/rob/Guardian-Privacy-Corpus/WORDMAP/GERMANY AND SURVEILLANCE AND EITHER AGENCIES.pngdoes not exist\n",
      "/home/rob/Guardian-Privacy-Corpus/WORDMAP/ESTONIA AND SURVEILLANCE AND EITHER AGENCIES.pngdoes not exist\n",
      "/home/rob/Guardian-Privacy-Corpus/WORDMAP/LITHUANIA AND SURVEILLANCE AND EITHER AGENCIES.pngdoes not exist\n",
      "/home/rob/Guardian-Privacy-Corpus/WORDMAP/POLAND AND PRIVACY AND EITHER AGENCIES.pngdoes not exist\n",
      "/home/rob/Guardian-Privacy-Corpus/WORDMAP/GREECE AND PRIVACY AND EITHER AGENCIES.pngdoes not exist\n",
      "/home/rob/Guardian-Privacy-Corpus/WORDMAP/MALTA AND PRIVACY AND EITHER AGENCIES.pngdoes not exist\n",
      "/home/rob/Guardian-Privacy-Corpus/WORDMAP/SLOVAKIA AND SURVEILLANCE AND EITHER AGENCIES.pngdoes not exist\n",
      "/home/rob/Guardian-Privacy-Corpus/WORDMAP/BELGIUM AND PRIVACY AND EITHER AGENCIES.pngdoes not exist\n",
      "/home/rob/Guardian-Privacy-Corpus/WORDMAP/POLAND AND SURVEILLANCE AND EITHER AGENCIES.pngdoes not exist\n",
      "/home/rob/Guardian-Privacy-Corpus/WORDMAP/LUXEMBOURG AND SURVEILLANCE AND EITHER AGENCIES.pngdoes not exist\n",
      "/home/rob/Guardian-Privacy-Corpus/WORDMAP/GERMANY AND PRIVACY AND EITHER AGENCIES.pngdoes not exist\n",
      "/home/rob/Guardian-Privacy-Corpus/WORDMAP/AUSTRIA AND SURVEILLANCE AND EITHER AGENCIES.pngdoes not exist\n",
      "/home/rob/Guardian-Privacy-Corpus/WORDMAP/AUSTRIA AND PRIVACY AND EITHER HNA AGENCIES.pngdoes not exist\n",
      "/home/rob/Guardian-Privacy-Corpus/WORDMAP/CYPRUS AND PRIVACY AND EITHER AGENCIES.pngdoes not exist\n",
      "/home/rob/Guardian-Privacy-Corpus/WORDMAP/SLOVAKIA AND PRIVACY AND EITHER AGENCIES.pngdoes not exist\n",
      "/home/rob/Guardian-Privacy-Corpus/WORDMAP/SURVEILLANCE AND LEAKS.pngdoes not exist\n",
      "/home/rob/Guardian-Privacy-Corpus/WORDMAP/FINLAND AND PRIVACY AND EITHER AGENCIES.pngdoes not exist\n",
      "/home/rob/Guardian-Privacy-Corpus/WORDMAP/BULGARIA AND PRIVACY AND EITHER AGENCIES.pngdoes not exist\n",
      "/home/rob/Guardian-Privacy-Corpus/WORDMAP/DENMARK AND SURVEILLANCE AND EITHER AGENCIES.pngdoes not exist\n",
      "/home/rob/Guardian-Privacy-Corpus/WORDMAP/FINLAND AND SURVEILLANCE AND EITHER AGENCIES.pngdoes not exist\n",
      "/home/rob/Guardian-Privacy-Corpus/WORDMAP/ITALY AND PRIVACY AND EITHER AGENCIES.pngdoes not exist\n",
      "/home/rob/Guardian-Privacy-Corpus/WORDMAP/CZECH REPUBLIC AND SURVEILLANCE AND EITHER AGENCIES.pngdoes not exist\n",
      "/home/rob/Guardian-Privacy-Corpus/WORDMAP/GCHQ OR SURVEILLANCE.pngdoes not exist\n",
      "/home/rob/Guardian-Privacy-Corpus/WORDMAP/ROMANIA AND SURVEILLANCE AND EITHER AGENCIES.pngdoes not exist\n",
      "/home/rob/Guardian-Privacy-Corpus/WORDMAP/BELGIUM AND SURVEILLANCE AND EITHER AGENCIES.pngdoes not exist\n",
      "/home/rob/Guardian-Privacy-Corpus/WORDMAP/CROATIA AND PRIVACY AND EITHER AGENCIES.pngdoes not exist\n",
      "/home/rob/Guardian-Privacy-Corpus/WORDMAP/CROATIA AND SURVEILLANCE AND EITHER AGENCIES.pngdoes not exist\n",
      "/home/rob/Guardian-Privacy-Corpus/WORDMAP/ESTONIA AND PRIVACY AND EITHER AGENCIES.pngdoes not exist\n",
      "/home/rob/Guardian-Privacy-Corpus/WORDMAP/LATVIA AND PRIVACY AND EITHER AGENCIES.pngdoes not exist\n",
      "/home/rob/Guardian-Privacy-Corpus/WORDMAP/LUXEMBOURG AND PRIVACY AND EITHER AGENCIES.pngdoes not exist\n",
      "/home/rob/Guardian-Privacy-Corpus/WORDMAP/IRELAND AND SURVEILLANCE AND EITHER AGENCIES.pngdoes not exist\n",
      "/home/rob/Guardian-Privacy-Corpus/WORDMAP/HUNGARY AND PRIVACY AND EITHER AGENCIES.pngdoes not exist\n",
      "/home/rob/Guardian-Privacy-Corpus/WORDMAP/PORTUGAL AND SURVEILLANCE AND EITHER AGENCIES.pngdoes not exist\n",
      "/home/rob/Guardian-Privacy-Corpus/WORDMAP/SWEDEN AND PRIVACY AND EITHER AGENCIES.pngdoes not exist\n",
      "/home/rob/Guardian-Privacy-Corpus/WORDMAP/PORTUGAL AND PRIVACY AND EITHER AGENCIES.pngdoes not exist\n",
      "/home/rob/Guardian-Privacy-Corpus/WORDMAP/NETHERLANDS AND PRIVACY AND EITHER AGENCIES.pngdoes not exist\n",
      "/home/rob/Guardian-Privacy-Corpus/WORDMAP/SWEDEN AND SURVEILLANCE AND EITHER AGENCIES.pngdoes not exist\n",
      "/home/rob/Guardian-Privacy-Corpus/WORDMAP/GCHQ AND PRIVACY.pngdoes not exist\n",
      "/home/rob/Guardian-Privacy-Corpus/WORDMAP/HACKING AND SURVEILLANCE AND DISCLOSURE.pngdoes not exist\n",
      "/home/rob/Guardian-Privacy-Corpus/WORDMAP/SPAIN AND PRIVACY AND EITHER AGENCIES.pngdoes not exist\n",
      "/home/rob/Guardian-Privacy-Corpus/WORDMAP/LITHUANIA AND PRIVACY AND EITHER AGENCIES.pngdoes not exist\n",
      "/home/rob/Guardian-Privacy-Corpus/WORDMAP/MALTA AND SURVEILLANCE AND EITHER AGENCIES.pngdoes not exist\n",
      "/home/rob/Guardian-Privacy-Corpus/WORDMAP/LATVIA AND SURVEILLANCE AND EITHER AGENCIES.pngdoes not exist\n",
      "/home/rob/Guardian-Privacy-Corpus/WORDMAP/CYPRUS AND SURVEILLANCE AND EITHER AGENCIES.pngdoes not exist\n",
      "/home/rob/Guardian-Privacy-Corpus/WORDMAP/DENMARK AND PRIVACY AND EITHER AGENCIES.pngdoes not exist\n",
      "/home/rob/Guardian-Privacy-Corpus/WORDMAP/UK AND SURVEILLANCE AND EITHER AGENCIES.pngdoes not exist\n"
     ]
    }
   ],
   "source": [
    "#!/usr/bin/env python\n",
    "\n",
    "import os\n",
    "import json\n",
    "from wordcloud import WordCloud, STOPWORDS\n",
    "import matplotlib.pyplot as plt\n",
    "totalText=\"\";\n",
    "stopwords = set(STOPWORDS)\n",
    "stopwords.add(\"said\")\n",
    "stopwords.add(\"think\")\n",
    "stopwords.add(\"will\")\n",
    "stopwords.add(\"one\")\n",
    "stopwords.add(\"two\")\n",
    "stopwords.add(\"say\")\n",
    "stopwords.add(\"need\")\n",
    "stopwords.add(\"time\")\n",
    "stopwords.add(\"says\")\n",
    "stopwords.add(\"now\")\n",
    "stopwords.add(\"year\")\n",
    "#Open the text aspect of the files\n",
    "print(\"HI\")\n",
    "path = os.path.abspath(os.path.dirname(\"./CORPUS/\"))\n",
    "pathImage = os.path.abspath(os.path.dirname(\"./WORDMAP/\"))\n",
    "directory = path\n",
    "for file in os.listdir(directory):\n",
    "    totalText=\"\"\n",
    "    if file.endswith(\".json\"):\n",
    "        if os.path.exists(pathImage+\"/\"+os.path.splitext(file)[0]+'.png'):\n",
    "            #Do nothing this is such that I can end this and resume running\n",
    "            #without having to remake the images\n",
    "            print(file +\" exists\")\n",
    "        else:\n",
    "            print(pathImage+\"/\"+os.path.splitext(file)[0]+'.png' + \"does not exist\")\n",
    "            with open(directory+\"/\"+file) as json_data:\n",
    "                d=json.load(json_data)\n",
    "                for x in range(0,len(d)):\n",
    "                    totalText+=d[x]['body'];\n",
    "                wordcloud=WordCloud(stopwords=stopwords,max_font_size=40).generate(totalText)\n",
    "        \n",
    "                image = wordcloud.to_image()\n",
    "                image.save('./WORDMAP/'+os.path.splitext(file)[0]+'.png')\n",
    "            # lower max_font_size\n",
    "            #wordcloud = WordCloud(max_font_size=40).generate(text)\n",
    "            #plt.figure()\n",
    "            #plt.imshow(wordcloud, interpolation=\"bilinear\")\n",
    "            #plt.axis(\"off\")\n",
    "            #plt.show()\n",
    "            #plt.savefig('./WORDMAP/'+os.path.splitext(file)[0]+'.jpg')\n",
    "            \n",
    "\n"
   ]
  },
  {
   "cell_type": "code",
   "execution_count": null,
   "metadata": {
    "collapsed": true
   },
   "outputs": [],
   "source": []
  },
  {
   "cell_type": "code",
   "execution_count": null,
   "metadata": {
    "collapsed": true
   },
   "outputs": [],
   "source": []
  },
  {
   "cell_type": "code",
   "execution_count": null,
   "metadata": {
    "collapsed": true
   },
   "outputs": [],
   "source": []
  }
 ],
 "metadata": {
  "kernelspec": {
   "display_name": "Python 2",
   "language": "python",
   "name": "python2"
  },
  "language_info": {
   "codemirror_mode": {
    "name": "ipython",
    "version": 2
   },
   "file_extension": ".py",
   "mimetype": "text/x-python",
   "name": "python",
   "nbconvert_exporter": "python",
   "pygments_lexer": "ipython2",
   "version": "2.7.12+"
  }
 },
 "nbformat": 4,
 "nbformat_minor": 2
}
