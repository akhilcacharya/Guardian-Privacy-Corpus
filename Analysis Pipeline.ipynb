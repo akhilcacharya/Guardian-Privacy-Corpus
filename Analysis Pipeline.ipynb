{
 "cells": [
  {
   "cell_type": "code",
   "execution_count": 11,
   "metadata": {
    "collapsed": false
   },
   "outputs": [
    {
     "name": "stderr",
     "output_type": "stream",
     "text": [
      "C:\\Users\\Akhil Acharya\\Anaconda3\\lib\\site-packages\\gensim\\utils.py:860: UserWarning: detected Windows; aliasing chunkize to chunkize_serial\n",
      "  warnings.warn(\"detected Windows; aliasing chunkize to chunkize_serial\")\n"
     ]
    }
   ],
   "source": [
    "import os \n",
    "import json\n",
    "import gensim \n",
    "\n",
    "\n",
    "from sklearn.feature_extraction.text import CountVectorizer\n",
    "from sklearn.feature_extraction.stop_words import ENGLISH_STOP_WORDS\n",
    "from nltk.corpus import stopwords\n",
    "import string\n",
    "\n",
    "\n",
    "\n",
    "STOPLIST = set(stopwords.words('english') + list(ENGLISH_STOP_WORDS))\n",
    "SYMBOLS = \" \".join(string.punctuation.split(\" \"))"
   ]
  },
  {
   "cell_type": "code",
   "execution_count": 132,
   "metadata": {
    "collapsed": true
   },
   "outputs": [],
   "source": [
    "def argmax(iterable):\n",
    "    return max(enumerate(iterable), key=lambda x: x[1])[0]"
   ]
  },
  {
   "cell_type": "markdown",
   "metadata": {},
   "source": [
    "# Data Filtering"
   ]
  },
  {
   "cell_type": "code",
   "execution_count": 12,
   "metadata": {
    "collapsed": false
   },
   "outputs": [],
   "source": [
    "with open(\"config.json\") as json_file: \n",
    "    config = json.load(json_file)"
   ]
  },
  {
   "cell_type": "code",
   "execution_count": 13,
   "metadata": {
    "collapsed": true
   },
   "outputs": [],
   "source": [
    "def fetch_terms(item): \n",
    "    # Get term list and the original\n",
    "    terms = item[\"name\"]\n",
    "    \n",
    "    # Get the first 3\n",
    "    terms = terms.split(\" \")[:3]\n",
    "        \n",
    "    return {\n",
    "        \"name\": item[\"name\"], \n",
    "        \"terms\": [terms[2]], \n",
    "        \"keywords\": item[\"keywords\"]\n",
    "    }"
   ]
  },
  {
   "cell_type": "code",
   "execution_count": 14,
   "metadata": {
    "collapsed": true
   },
   "outputs": [],
   "source": [
    "def filter_corpus(config): \n",
    " \n",
    "    search_terms = list(map(fetch_terms, config))\n",
    "    \n",
    "    result_file = open(\"sanity_check_filtering.csv\", \"w\")\n",
    "    \n",
    "    queries = [] \n",
    "    \n",
    "    for query in search_terms: \n",
    "        filename = \"CORPUS/%s.json \" % (query[\"name\"])\n",
    "        \n",
    "        with open(filename) as f: \n",
    "            corpus_list = json.load(f)\n",
    "\n",
    "        total_length = len(corpus_list)\n",
    "\n",
    "        keyword_relevant = 0\n",
    "\n",
    "        filtered_corpus_list = [] \n",
    "        \n",
    "        for corpus in corpus_list: \n",
    "            text = corpus[\"body\"]\n",
    "            tokens = text.split(\" \")\n",
    "                        \n",
    "            token_set = set([tok.lower() for tok in tokens])\n",
    "            keyword_set = set([tok.lower() for tok in query[\"keywords\"]])\n",
    "\n",
    "            if (token_set.intersection(keyword_set)): \n",
    "                keyword_relevant += 1\n",
    "                filtered_corpus_list.append(corpus)\n",
    "        \n",
    "        queries.append({\n",
    "            \"query\": query[\"name\"], \n",
    "            \"corpus\": filtered_corpus_list, \n",
    "        })\n",
    "        \n",
    "        print(\"%s,%d,%d,%f\" % (query[\"name\"], keyword_relevant, total_length, keyword_relevant/total_length), file=result_file)\n",
    "\n",
    "    result_file.close()\n",
    "    # Proceed pipeline with the filtered corpus list        \n",
    "    return queries"
   ]
  },
  {
   "cell_type": "code",
   "execution_count": null,
   "metadata": {
    "collapsed": false
   },
   "outputs": [],
   "source": []
  },
  {
   "cell_type": "markdown",
   "metadata": {},
   "source": [
    "# Topic Modeling"
   ]
  },
  {
   "cell_type": "code",
   "execution_count": 3,
   "metadata": {
    "collapsed": true
   },
   "outputs": [],
   "source": [
    "def clean_text(article): \n",
    "    article = article.strip()\n",
    "    \n",
    "    # Remove newlines\n",
    "    article = article.replace(\"\\n\", \" \")\n",
    "    article = article.replace(\"\\r\", \" \")\n",
    "      \n",
    "    # Remove HTML symbols if any \n",
    "    article = article.replace(\"&amp;\", \"and\")\n",
    "    article = article.replace(\"&gt;\", \">\")\n",
    "    article = article.replace(\"&lt;\", \"<\")\n",
    "    \n",
    "    article = article.lower()\n",
    "    return article \n",
    "\n",
    "def tokenize(article): \n",
    "    tokens = article.split()\n",
    "            \n",
    "    tokens = [tok for tok in tokens if tok not in STOPLIST]\n",
    "    tokens = [tok for tok in tokens if tok not in SYMBOLS]\n",
    "    \n",
    "    return tokens"
   ]
  },
  {
   "cell_type": "code",
   "execution_count": 17,
   "metadata": {
    "collapsed": false
   },
   "outputs": [],
   "source": [
    "def fetch_topics_for_query(name, article_list):    \n",
    "    documents = map(lambda doc: clean_text(doc[\"body\"]), article_list)\n",
    "    texts = [tokenize(document) for document in documents]\n",
    "    \n",
    "    dictionary = gensim.corpora.Dictionary(texts)\n",
    "    corpus = [dictionary.doc2bow(text) for text in texts]\n",
    "    \n",
    "    ldaModel = gensim.models.ldamulticore.LdaMulticore(corpus=corpus, \n",
    "                                              num_topics=50,\n",
    "                                              id2word=dictionary,\n",
    "                                              passes=1, \n",
    "                                              workers=3)\n",
    "    \n",
    "    topics = ldaModel.show_topics(num_topics=10, log=True, formatted=True)\n",
    "\n",
    "    file = open(\"%s_topics.txt\" % name, 'w')\n",
    "    print(topics, file=file)\n",
    "    file.close()     "
   ]
  },
  {
   "cell_type": "code",
   "execution_count": 5,
   "metadata": {
    "collapsed": true
   },
   "outputs": [],
   "source": [
    "def fetch_topics_for_queries(query_list):\n",
    "    for query in query_list: \n",
    "        corpus = query[\"corpus\"]\n",
    "        fetch_topics_for_query(query[\"query\"], corpus)"
   ]
  },
  {
   "cell_type": "markdown",
   "metadata": {},
   "source": [
    "# Date Binning "
   ]
  },
  {
   "cell_type": "code",
   "execution_count": 6,
   "metadata": {
    "collapsed": true
   },
   "outputs": [],
   "source": [
    "years = [x for x in range(1996, 2017)]"
   ]
  },
  {
   "cell_type": "code",
   "execution_count": null,
   "metadata": {
    "collapsed": true
   },
   "outputs": [],
   "source": [
    "def bin_dates_for_query(name, corpus): \n",
    "    \n",
    "    \n",
    "    \n",
    "    \n",
    "    \n",
    "    pass"
   ]
  },
  {
   "cell_type": "code",
   "execution_count": null,
   "metadata": {
    "collapsed": true
   },
   "outputs": [],
   "source": [
    "def bin_dates(query_list):\n",
    "    for query in query_list: \n",
    "        corpus = query[\"corpus\"]"
   ]
  },
  {
   "cell_type": "markdown",
   "metadata": {},
   "source": [
    "# Pipeline"
   ]
  },
  {
   "cell_type": "code",
   "execution_count": 15,
   "metadata": {
    "collapsed": false
   },
   "outputs": [],
   "source": [
    "filtered_list = filter_corpus(config)"
   ]
  },
  {
   "cell_type": "code",
   "execution_count": 18,
   "metadata": {
    "collapsed": false
   },
   "outputs": [],
   "source": [
    "fetch_topics_for_queries(filtered_list)"
   ]
  },
  {
   "cell_type": "code",
   "execution_count": null,
   "metadata": {
    "collapsed": true
   },
   "outputs": [],
   "source": []
  }
 ],
 "metadata": {
  "anaconda-cloud": {},
  "kernelspec": {
   "display_name": "Python [default]",
   "language": "python",
   "name": "python3"
  },
  "language_info": {
   "codemirror_mode": {
    "name": "ipython",
    "version": 3
   },
   "file_extension": ".py",
   "mimetype": "text/x-python",
   "name": "python",
   "nbconvert_exporter": "python",
   "pygments_lexer": "ipython3",
   "version": "3.5.2"
  }
 },
 "nbformat": 4,
 "nbformat_minor": 0
}
