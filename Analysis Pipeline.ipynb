{
 "cells": [
  {
   "cell_type": "code",
   "execution_count": 58,
   "metadata": {
    "collapsed": false
   },
   "outputs": [],
   "source": [
    "import os \n",
    "import json\n",
    "import gensim \n",
    "\n",
    "\n",
    "from sklearn.feature_extraction.text import CountVectorizer\n",
    "from sklearn.feature_extraction.stop_words import ENGLISH_STOP_WORDS\n",
    "from nltk.corpus import stopwords\n",
    "import string\n",
    "\n",
    "from spacy.en import English\n",
    "parser = English()\n",
    "\n",
    "\n",
    "STOPLIST = set(stopwords.words('english') + list(ENGLISH_STOP_WORDS))\n",
    "SYMBOLS = \" \".join(string.punctuation.split(\" \"))"
   ]
  },
  {
   "cell_type": "markdown",
   "metadata": {},
   "source": [
    "# Data Loading "
   ]
  },
  {
   "cell_type": "code",
   "execution_count": 3,
   "metadata": {
    "collapsed": false
   },
   "outputs": [],
   "source": [
    "PATH = \"CORPUS/AUSTRIA AND PRIVACY AND EITHER HNA AGENCIES.json\"\n",
    "\n",
    "terms = [] \n",
    "\n",
    "with open(PATH) as json_file: \n",
    "    doc_list = json.load(json_file)\n",
    "    terms.append(doc_list)"
   ]
  },
  {
   "cell_type": "markdown",
   "metadata": {},
   "source": [
    "# Corpus Pre-Processing"
   ]
  },
  {
   "cell_type": "code",
   "execution_count": 4,
   "metadata": {
    "collapsed": false
   },
   "outputs": [],
   "source": [
    "def clean_text(article): \n",
    "    article = article.strip()\n",
    "    \n",
    "    # Remove newlines\n",
    "    article = article.replace(\"\\n\", \" \")\n",
    "    article = article.replace(\"\\r\", \" \")\n",
    "      \n",
    "    # Remove HTML symbols if any \n",
    "    article = article.replace(\"&amp;\", \"and\")\n",
    "    article = article.replace(\"&gt;\", \">\")\n",
    "    article = article.replace(\"&lt;\", \"<\")\n",
    "    \n",
    "    article = article.lower()\n",
    "    return article \n",
    "\n",
    "def tokenize(article): \n",
    "    tokens = article.split()\n",
    "            \n",
    "    tokens = [tok for tok in tokens if tok not in STOPLIST]\n",
    "    tokens = [tok for tok in tokens if tok not in SYMBOLS]\n",
    "    \n",
    "    return tokens"
   ]
  },
  {
   "cell_type": "code",
   "execution_count": 25,
   "metadata": {
    "collapsed": false
   },
   "outputs": [],
   "source": [
    "article_list = [] \n",
    "\n",
    "with open(PATH) as f: \n",
    "    article_list = json.load(f)\n",
    "\n",
    "    \n",
    "documents = map(lambda doc: clean_text(doc[\"body\"]), article_list)\n",
    "\n",
    "texts = [tokenize(document) for document in documents]"
   ]
  },
  {
   "cell_type": "code",
   "execution_count": null,
   "metadata": {
    "collapsed": true
   },
   "outputs": [],
   "source": [
    "all_tokens = sum(texts, [])\n"
   ]
  },
  {
   "cell_type": "markdown",
   "metadata": {},
   "source": [
    "# Topic Modeling"
   ]
  },
  {
   "cell_type": "code",
   "execution_count": 53,
   "metadata": {
    "collapsed": false
   },
   "outputs": [],
   "source": [
    "dictionary = gensim.corpora.Dictionary(texts)\n",
    "corpus = [dictionary.doc2bow(text) for text in texts][:500]"
   ]
  },
  {
   "cell_type": "code",
   "execution_count": null,
   "metadata": {
    "collapsed": false
   },
   "outputs": [],
   "source": []
  },
  {
   "cell_type": "code",
   "execution_count": 54,
   "metadata": {
    "collapsed": false
   },
   "outputs": [
    {
     "name": "stderr",
     "output_type": "stream",
     "text": [
      "Process PoolWorker-63:\n",
      "Process PoolWorker-62:\n",
      "Process PoolWorker-61:\n",
      "Traceback (most recent call last):\n",
      "Traceback (most recent call last):\n",
      "Traceback (most recent call last):\n",
      "  File \"/Users/akhilacharya/anaconda/lib/python2.7/multiprocessing/process.py\", line 258, in _bootstrap\n",
      "  File \"/Users/akhilacharya/anaconda/lib/python2.7/multiprocessing/process.py\", line 258, in _bootstrap\n",
      "  File \"/Users/akhilacharya/anaconda/lib/python2.7/multiprocessing/process.py\", line 258, in _bootstrap\n",
      "    self.run()\n",
      "    self.run()\n",
      "  File \"/Users/akhilacharya/anaconda/lib/python2.7/multiprocessing/process.py\", line 114, in run\n",
      "  File \"/Users/akhilacharya/anaconda/lib/python2.7/multiprocessing/process.py\", line 114, in run\n",
      "    self.run()\n",
      "    self._target(*self._args, **self._kwargs)\n",
      "    self._target(*self._args, **self._kwargs)\n",
      "  File \"/Users/akhilacharya/anaconda/lib/python2.7/multiprocessing/pool.py\", line 97, in worker\n",
      "  File \"/Users/akhilacharya/anaconda/lib/python2.7/multiprocessing/process.py\", line 114, in run\n",
      "    self._target(*self._args, **self._kwargs)\n",
      "  File \"/Users/akhilacharya/anaconda/lib/python2.7/multiprocessing/pool.py\", line 97, in worker\n",
      "    initializer(*initargs)\n",
      "  File \"/Users/akhilacharya/anaconda/lib/python2.7/multiprocessing/pool.py\", line 97, in worker\n",
      "    initializer(*initargs)\n",
      "    initializer(*initargs)\n",
      "  File \"/Users/akhilacharya/anaconda/lib/python2.7/site-packages/gensim/models/ldamulticore.py\", line 272, in worker_e_step\n",
      "  File \"/Users/akhilacharya/anaconda/lib/python2.7/site-packages/gensim/models/ldamulticore.py\", line 272, in worker_e_step\n",
      "  File \"/Users/akhilacharya/anaconda/lib/python2.7/site-packages/gensim/models/ldamulticore.py\", line 272, in worker_e_step\n",
      "    chunk_no, chunk, worker_lda = input_queue.get()\n",
      "    chunk_no, chunk, worker_lda = input_queue.get()\n",
      "  File \"/Users/akhilacharya/anaconda/lib/python2.7/multiprocessing/queues.py\", line 117, in get\n",
      "    chunk_no, chunk, worker_lda = input_queue.get()\n",
      "  File \"/Users/akhilacharya/anaconda/lib/python2.7/multiprocessing/queues.py\", line 115, in get\n",
      "  File \"/Users/akhilacharya/anaconda/lib/python2.7/multiprocessing/queues.py\", line 115, in get\n",
      "    res = self._recv()\n",
      "    self._rlock.acquire()\n",
      "    self._rlock.acquire()\n",
      "KeyboardInterrupt\n",
      "KeyboardInterrupt\n",
      "KeyboardInterrupt\n"
     ]
    },
    {
     "ename": "KeyboardInterrupt",
     "evalue": "",
     "output_type": "error",
     "traceback": [
      "\u001b[0;31m---------------------------------------------------------------------------\u001b[0m",
      "\u001b[0;31mKeyboardInterrupt\u001b[0m                         Traceback (most recent call last)",
      "\u001b[0;32m<ipython-input-54-88f4005abacc>\u001b[0m in \u001b[0;36m<module>\u001b[0;34m()\u001b[0m\n\u001b[1;32m      3\u001b[0m                                               \u001b[0mid2word\u001b[0m\u001b[0;34m=\u001b[0m\u001b[0mdictionary\u001b[0m\u001b[0;34m,\u001b[0m\u001b[0;34m\u001b[0m\u001b[0m\n\u001b[1;32m      4\u001b[0m                                               \u001b[0mpasses\u001b[0m\u001b[0;34m=\u001b[0m\u001b[0;36m1\u001b[0m\u001b[0;34m,\u001b[0m\u001b[0;34m\u001b[0m\u001b[0m\n\u001b[0;32m----> 5\u001b[0;31m                                               workers=3)\n\u001b[0m",
      "\u001b[0;32m/Users/akhilacharya/anaconda/lib/python2.7/site-packages/gensim/models/ldamulticore.pyc\u001b[0m in \u001b[0;36m__init__\u001b[0;34m(self, corpus, num_topics, id2word, workers, chunksize, passes, batch, alpha, eta, decay, offset, eval_every, iterations, gamma_threshold, random_state)\u001b[0m\n\u001b[1;32m    145\u001b[0m             \u001b[0mid2word\u001b[0m\u001b[0;34m=\u001b[0m\u001b[0mid2word\u001b[0m\u001b[0;34m,\u001b[0m \u001b[0mchunksize\u001b[0m\u001b[0;34m=\u001b[0m\u001b[0mchunksize\u001b[0m\u001b[0;34m,\u001b[0m \u001b[0mpasses\u001b[0m\u001b[0;34m=\u001b[0m\u001b[0mpasses\u001b[0m\u001b[0;34m,\u001b[0m \u001b[0malpha\u001b[0m\u001b[0;34m=\u001b[0m\u001b[0malpha\u001b[0m\u001b[0;34m,\u001b[0m \u001b[0meta\u001b[0m\u001b[0;34m=\u001b[0m\u001b[0meta\u001b[0m\u001b[0;34m,\u001b[0m\u001b[0;34m\u001b[0m\u001b[0m\n\u001b[1;32m    146\u001b[0m             \u001b[0mdecay\u001b[0m\u001b[0;34m=\u001b[0m\u001b[0mdecay\u001b[0m\u001b[0;34m,\u001b[0m \u001b[0moffset\u001b[0m\u001b[0;34m=\u001b[0m\u001b[0moffset\u001b[0m\u001b[0;34m,\u001b[0m \u001b[0meval_every\u001b[0m\u001b[0;34m=\u001b[0m\u001b[0meval_every\u001b[0m\u001b[0;34m,\u001b[0m \u001b[0miterations\u001b[0m\u001b[0;34m=\u001b[0m\u001b[0miterations\u001b[0m\u001b[0;34m,\u001b[0m\u001b[0;34m\u001b[0m\u001b[0m\n\u001b[0;32m--> 147\u001b[0;31m             gamma_threshold=gamma_threshold, random_state=random_state)\n\u001b[0m\u001b[1;32m    148\u001b[0m \u001b[0;34m\u001b[0m\u001b[0m\n\u001b[1;32m    149\u001b[0m \u001b[0;34m\u001b[0m\u001b[0m\n",
      "\u001b[0;32m/Users/akhilacharya/anaconda/lib/python2.7/site-packages/gensim/models/ldamodel.pyc\u001b[0m in \u001b[0;36m__init__\u001b[0;34m(self, corpus, num_topics, id2word, distributed, chunksize, passes, update_every, alpha, eta, decay, offset, eval_every, iterations, gamma_threshold, minimum_probability, random_state, ns_conf)\u001b[0m\n\u001b[1;32m    346\u001b[0m         \u001b[0;32mif\u001b[0m \u001b[0mcorpus\u001b[0m \u001b[0;32mis\u001b[0m \u001b[0;32mnot\u001b[0m \u001b[0mNone\u001b[0m\u001b[0;34m:\u001b[0m\u001b[0;34m\u001b[0m\u001b[0m\n\u001b[1;32m    347\u001b[0m             \u001b[0muse_numpy\u001b[0m \u001b[0;34m=\u001b[0m \u001b[0mself\u001b[0m\u001b[0;34m.\u001b[0m\u001b[0mdispatcher\u001b[0m \u001b[0;32mis\u001b[0m \u001b[0;32mnot\u001b[0m \u001b[0mNone\u001b[0m\u001b[0;34m\u001b[0m\u001b[0m\n\u001b[0;32m--> 348\u001b[0;31m             \u001b[0mself\u001b[0m\u001b[0;34m.\u001b[0m\u001b[0mupdate\u001b[0m\u001b[0;34m(\u001b[0m\u001b[0mcorpus\u001b[0m\u001b[0;34m,\u001b[0m \u001b[0mchunks_as_numpy\u001b[0m\u001b[0;34m=\u001b[0m\u001b[0muse_numpy\u001b[0m\u001b[0;34m)\u001b[0m\u001b[0;34m\u001b[0m\u001b[0m\n\u001b[0m\u001b[1;32m    349\u001b[0m \u001b[0;34m\u001b[0m\u001b[0m\n\u001b[1;32m    350\u001b[0m     \u001b[0;32mdef\u001b[0m \u001b[0minit_dir_prior\u001b[0m\u001b[0;34m(\u001b[0m\u001b[0mself\u001b[0m\u001b[0;34m,\u001b[0m \u001b[0mprior\u001b[0m\u001b[0;34m,\u001b[0m \u001b[0mname\u001b[0m\u001b[0;34m)\u001b[0m\u001b[0;34m:\u001b[0m\u001b[0;34m\u001b[0m\u001b[0m\n",
      "\u001b[0;32m/Users/akhilacharya/anaconda/lib/python2.7/site-packages/gensim/models/ldamulticore.pyc\u001b[0m in \u001b[0;36mupdate\u001b[0;34m(self, corpus, chunks_as_numpy)\u001b[0m\n\u001b[1;32m    252\u001b[0m             \u001b[0;31m# wait for all outstanding jobs to finish\u001b[0m\u001b[0;34m\u001b[0m\u001b[0;34m\u001b[0m\u001b[0m\n\u001b[1;32m    253\u001b[0m             \u001b[0;32mwhile\u001b[0m \u001b[0mqueue_size\u001b[0m\u001b[0;34m[\u001b[0m\u001b[0;36m0\u001b[0m\u001b[0;34m]\u001b[0m \u001b[0;34m>\u001b[0m \u001b[0;36m0\u001b[0m\u001b[0;34m:\u001b[0m\u001b[0;34m\u001b[0m\u001b[0m\n\u001b[0;32m--> 254\u001b[0;31m                 \u001b[0mprocess_result_queue\u001b[0m\u001b[0;34m(\u001b[0m\u001b[0mforce\u001b[0m\u001b[0;34m=\u001b[0m\u001b[0mTrue\u001b[0m\u001b[0;34m)\u001b[0m\u001b[0;34m\u001b[0m\u001b[0m\n\u001b[0m\u001b[1;32m    255\u001b[0m \u001b[0;34m\u001b[0m\u001b[0m\n\u001b[1;32m    256\u001b[0m             \u001b[0;32mif\u001b[0m \u001b[0mreallen\u001b[0m \u001b[0;34m!=\u001b[0m \u001b[0mlencorpus\u001b[0m\u001b[0;34m:\u001b[0m\u001b[0;34m\u001b[0m\u001b[0m\n",
      "\u001b[0;32m/Users/akhilacharya/anaconda/lib/python2.7/site-packages/gensim/models/ldamulticore.pyc\u001b[0m in \u001b[0;36mprocess_result_queue\u001b[0;34m(force)\u001b[0m\n\u001b[1;32m    218\u001b[0m                 \"\"\"\n\u001b[1;32m    219\u001b[0m                 \u001b[0mmerged_new\u001b[0m \u001b[0;34m=\u001b[0m \u001b[0mFalse\u001b[0m\u001b[0;34m\u001b[0m\u001b[0m\n\u001b[0;32m--> 220\u001b[0;31m                 \u001b[0;32mwhile\u001b[0m \u001b[0;32mnot\u001b[0m \u001b[0mresult_queue\u001b[0m\u001b[0;34m.\u001b[0m\u001b[0mempty\u001b[0m\u001b[0;34m(\u001b[0m\u001b[0;34m)\u001b[0m\u001b[0;34m:\u001b[0m\u001b[0;34m\u001b[0m\u001b[0m\n\u001b[0m\u001b[1;32m    221\u001b[0m                     \u001b[0mother\u001b[0m\u001b[0;34m.\u001b[0m\u001b[0mmerge\u001b[0m\u001b[0;34m(\u001b[0m\u001b[0mresult_queue\u001b[0m\u001b[0;34m.\u001b[0m\u001b[0mget\u001b[0m\u001b[0;34m(\u001b[0m\u001b[0;34m)\u001b[0m\u001b[0;34m)\u001b[0m\u001b[0;34m\u001b[0m\u001b[0m\n\u001b[1;32m    222\u001b[0m                     \u001b[0mqueue_size\u001b[0m\u001b[0;34m[\u001b[0m\u001b[0;36m0\u001b[0m\u001b[0;34m]\u001b[0m \u001b[0;34m-=\u001b[0m \u001b[0;36m1\u001b[0m\u001b[0;34m\u001b[0m\u001b[0m\n",
      "\u001b[0;31mKeyboardInterrupt\u001b[0m: "
     ]
    }
   ],
   "source": [
    "hungary_lda = gensim.models.ldamulticore.LdaMulticore(corpus=corpus, \n",
    "                                              num_topics=10,\n",
    "                                              id2word=dictionary, \n",
    "                                              passes=1, \n",
    "                                              workers=3)"
   ]
  },
  {
   "cell_type": "code",
   "execution_count": null,
   "metadata": {
    "collapsed": true
   },
   "outputs": [],
   "source": []
  },
  {
   "cell_type": "code",
   "execution_count": 46,
   "metadata": {
    "collapsed": false
   },
   "outputs": [
    {
     "name": "stdout",
     "output_type": "stream",
     "text": [
      "7 0.001*\"paid\" + 0.001*\"clubs\" + 0.001*\"premier\" + 0.001*\"transfer\" + 0.001*\"agents’\" + 0.001*\"players\" + 0.001*\"2016\" + 0.001*\"fees\" + 0.001*\"year\" + 0.001*\"total\"\n",
      "4 0.004*\"–\" + 0.002*\"said\" + 0.001*\"new\" + 0.001*\"people\" + 0.001*\"trump\" + 0.001*\"labour\" + 0.001*\"know\" + 0.000*\"way\" + 0.000*\"world\" + 0.000*\"syrian\"\n",
      "21 0.001*\"said\" + 0.001*\"parish\" + 0.000*\"–\" + 0.000*\"syrian\" + 0.000*\"eamonn\" + 0.000*\"sussex.\" + 0.000*\"west\" + 0.000*\"priest\" + 0.000*\"attack\" + 0.000*\"military\"\n",
      "38 0.002*\"–\" + 0.001*\"it’s\" + 0.001*\"new\" + 0.001*\"way\" + 0.001*\"used\" + 0.001*\"said\" + 0.001*\"like\" + 0.001*\"years\" + 0.001*\"good\" + 0.001*\"britain\"\n",
      "30 0.001*\"–\" + 0.001*\"it’s\" + 0.001*\"think\" + 0.001*\"new\" + 0.001*\"like\" + 0.001*\"said\" + 0.001*\"years\" + 0.001*\"don’t\" + 0.001*\"time\" + 0.001*\"good\"\n",
      "26 0.002*\"–\" + 0.001*\"new\" + 0.001*\"said\" + 0.001*\"it’s\" + 0.001*\"people\" + 0.000*\"west\" + 0.000*\"blokes\" + 0.000*\"right\" + 0.000*\"met\" + 0.000*\"way\"\n",
      "0 0.002*\"–\" + 0.001*\"players\" + 0.001*\"time\" + 0.001*\"don’t\" + 0.001*\"think\" + 0.001*\"military\" + 0.001*\"world\" + 0.001*\"new\" + 0.001*\"hazard\" + 0.001*\"women’s\"\n",
      "15 0.001*\"–\" + 0.001*\"new\" + 0.001*\"people\" + 0.001*\"it’s\" + 0.001*\"said\" + 0.001*\"insurance\" + 0.001*\"home\" + 0.001*\"picone\" + 0.001*\"contents\" + 0.001*\"cover\"\n",
      "35 0.003*\"–\" + 0.001*\"new\" + 0.001*\"it’s\" + 0.001*\"people\" + 0.001*\"like\" + 0.001*\"said\" + 0.001*\"really\" + 0.001*\"time\" + 0.001*\"deaths\" + 0.001*\"make\"\n",
      "19 0.002*\"–\" + 0.001*\"like\" + 0.001*\"it’s\" + 0.001*\"said\" + 0.001*\"people\" + 0.000*\"you’re\" + 0.000*\"make\" + 0.000*\"cormier\" + 0.000*\"new\" + 0.000*\"johnson\"\n"
     ]
    }
   ],
   "source": [
    "for i in hungary_lda.show_topics(): \n",
    "    print i[0], i[1]"
   ]
  },
  {
   "cell_type": "code",
   "execution_count": 49,
   "metadata": {
    "collapsed": false
   },
   "outputs": [],
   "source": [
    "def fetch_topics_for_query(article_list):    \n",
    "    documents = map(lambda doc: clean_text(doc[\"body\"]), article_list)\n",
    "    texts = [tokenize(document) for document in documents]\n",
    "    \n",
    "    dictionary = gensim.corpora.Dictionary(texts)\n",
    "    corpus = [dictionary.doc2bow(text) for text in texts]\n",
    "    \n",
    "    ldaModel = gensim.models.ldamulticore.LdaMulticore(corpus=corpus, \n",
    "                                              num_topics=50,\n",
    "                                              passes=2, \n",
    "                                              workers=3)\n",
    "    \n",
    "    "
   ]
  },
  {
   "cell_type": "code",
   "execution_count": null,
   "metadata": {
    "collapsed": true
   },
   "outputs": [],
   "source": [
    "# Lets try a different way "
   ]
  },
  {
   "cell_type": "code",
   "execution_count": 60,
   "metadata": {
    "collapsed": false
   },
   "outputs": [],
   "source": [
    "tf = CountVectorizer(stop_words=\"english\")"
   ]
  },
  {
   "cell_type": "code",
   "execution_count": 62,
   "metadata": {
    "collapsed": false
   },
   "outputs": [
    {
     "data": {
      "text/plain": [
       "<489x365 sparse matrix of type '<type 'numpy.int64'>'\n",
       "\twith 445 stored elements in Compressed Sparse Row format>"
      ]
     },
     "execution_count": 62,
     "metadata": {},
     "output_type": "execute_result"
    }
   ],
   "source": [
    "tf.fit_transform(texts[0])"
   ]
  },
  {
   "cell_type": "code",
   "execution_count": null,
   "metadata": {
    "collapsed": true
   },
   "outputs": [],
   "source": []
  }
 ],
 "metadata": {
  "kernelspec": {
   "display_name": "Python 2",
   "language": "python",
   "name": "python2"
  }
 },
 "nbformat": 4,
 "nbformat_minor": 0
}
